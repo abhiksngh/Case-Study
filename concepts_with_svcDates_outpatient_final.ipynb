{
 "cells": [
  {
   "cell_type": "code",
   "execution_count": 2,
   "metadata": {},
   "outputs": [],
   "source": [
    "from __future__ import print_function\n",
    "import pandas as pd\n",
    "import dask.dataframe as dd\n",
    "import numpy as np\n",
    "import sys\n",
    "import gc\n",
    "from multiprocessing.pool import Pool\n",
    "from tqdm import tqdm_notebook as tqdm\n",
    "\n",
    "import warnings\n",
    "warnings.filterwarnings('ignore')"
   ]
  },
  {
   "cell_type": "code",
   "execution_count": 2,
   "metadata": {},
   "outputs": [],
   "source": [
    "def join_with_hfref(patient_cohort,outpatient_claims):\n",
    "    gc.collect()\n",
    "    outpatient_claims_joined = pd.merge(outpatient_claims, patient_cohort, on=\"enrolid\", how=\"left\")    \n",
    "    print('Join Completed')\n",
    "    return outpatient_claims_joined"
   ]
  },
  {
   "cell_type": "code",
   "execution_count": 3,
   "metadata": {},
   "outputs": [],
   "source": [
    "def preprocess(outpatient_claims_joined):\n",
    "    gc.collect()\n",
    "    outpatient_dx1 = outpatient_claims_joined.drop(columns=['dx2', 'dx3', 'dx4'])\n",
    "    outpatient_dx2 = outpatient_claims_joined.drop(columns=['dx1', 'dx3', 'dx4'])\n",
    "    outpatient_dx3 = outpatient_claims_joined.drop(columns=['dx1', 'dx2', 'dx4'])\n",
    "    outpatient_dx4 = outpatient_claims_joined.drop(columns=['dx1', 'dx2', 'dx3'])\n",
    "    \n",
    "    outpatient_dx1[\"dx_truncated\"] = outpatient_dx1[\"dx1\"].apply(lambda x: truncate_code(x))\n",
    "    outpatient_dx2[\"dx_truncated\"] = outpatient_dx2[\"dx2\"].apply(lambda x: truncate_code(x))\n",
    "    outpatient_dx3[\"dx_truncated\"] = outpatient_dx3[\"dx3\"].apply(lambda x: truncate_code(x))\n",
    "    outpatient_dx4[\"dx_truncated\"] = outpatient_dx4[\"dx4\"].apply(lambda x: truncate_code(x))\n",
    "    \n",
    "    outpatient_dx1_select = outpatient_dx1[['enrolid', 'svcdate', 'indexdate', 'dx_truncated', 'sex', 'age', 'region', 'plantyp', 'datatyp', 'rx']]\n",
    "    outpatient_dx2_select = outpatient_dx2[['enrolid', 'svcdate', 'indexdate', 'dx_truncated', 'sex', 'age', 'region', 'plantyp', 'datatyp', 'rx']]\n",
    "    outpatient_dx3_select = outpatient_dx3[['enrolid', 'svcdate', 'indexdate', 'dx_truncated', 'sex', 'age', 'region', 'plantyp', 'datatyp', 'rx']]\n",
    "    outpatient_dx4_select = outpatient_dx4[['enrolid', 'svcdate', 'indexdate', 'dx_truncated', 'sex', 'age', 'region', 'plantyp', 'datatyp', 'rx']]\n",
    "\n",
    "    outpatient_concat = pd.concat([outpatient_dx1_select, outpatient_dx2_select, outpatient_dx3_select,outpatient_dx4_select], ignore_index=True)\n",
    "    outpatient_concat = outpatient_concat[outpatient_concat['dx_truncated']!='nan']\n",
    "    \n",
    "    del outpatient_dx1,outpatient_dx2,outpatient_dx3,outpatient_dx4,outpatient_dx1_select,outpatient_dx2_select,outpatient_dx3_select,outpatient_dx4_select\n",
    "    gc.collect()\n",
    "    \n",
    "    print('Column PreProcessing Completed')\n",
    "    return outpatient_concat\n",
    "    \n",
    "    \n",
    "def truncate_code(dx_code):\n",
    "    new_code = str(dx_code)[0:3]\n",
    "    \n",
    "    return new_code    "
   ]
  },
  {
   "cell_type": "code",
   "execution_count": 4,
   "metadata": {},
   "outputs": [],
   "source": [
    "def calculate_clusters(outpatient_concat):\n",
    "    gc.collect()\n",
    "    outpatient_clustered = outpatient_concat[['enrolid', 'dx_truncated']]\n",
    "    outpatient_clustered = outpatient_clustered.groupby(['dx_truncated']).count().reset_index()\n",
    "    outpatient_clustered = outpatient_clustered.sort_values(by='enrolid', ascending=False)\n",
    "    outpatient_clustered = outpatient_clustered.rename(columns={\"dx_truncated\": \"dx_truncated\", \"enrolid\": \"enrolid_count\"})\n",
    "    print (outpatient_clustered.head())\n",
    "    \n",
    "    del outpatient_concat\n",
    "    gc.collect()\n",
    "    \n",
    "    print('Clusters Computed')\n",
    "    return outpatient_clustered"
   ]
  },
  {
   "cell_type": "code",
   "execution_count": 5,
   "metadata": {},
   "outputs": [],
   "source": [
    "def remove_low_frequency(outpatient_concat,outpatient_clustered):\n",
    "    gc.collect()\n",
    "    total_occur = sum(outpatient_clustered['enrolid_count'])\n",
    "    print (\"Total: No of Concepts \", outpatient_clustered.shape[0])\n",
    "    print (\"Total: code occurences:\", total_occur)\n",
    "    outpatient_clustered['occur_rate'] = outpatient_clustered['enrolid_count'].apply(lambda x: float(x/total_occur))\n",
    "    print (outpatient_clustered.head())\n",
    "    outpatient_clustered_final=outpatient_clustered[outpatient_clustered.enrolid_count > outpatient_clustered.enrolid_count.quantile(.30)]\n",
    "    print (outpatient_clustered_final.head())\n",
    "    print (\"Final total codes: \", outpatient_clustered_final.shape)\n",
    "    outpatient_concat_final = outpatient_concat[outpatient_concat['dx_truncated'].isin(outpatient_clustered_final['dx_truncated'])]\n",
    "    print(outpatient_concat_final.head())\n",
    "    \n",
    "    \n",
    "    del outpatient_concat,outpatient_clustered\n",
    "    gc.collect()\n",
    "    \n",
    "    print('Removed Low frequency occurences')\n",
    "    return outpatient_concat_final"
   ]
  },
  {
   "cell_type": "code",
   "execution_count": 6,
   "metadata": {},
   "outputs": [],
   "source": [
    "def pivot_outpatient_remove_low_variance():\n",
    "    new_df=pd.DataFrame()\n",
    "    df=pd.read_csv('outpatient_concat_final_bigfile.csv')\n",
    "    df.drop(['Unnamed: 0'],axis=1,inplace=True)\n",
    "    df['svcdate']=pd.to_datetime(df['svcdate'])\n",
    "    df['year']=df['svcdate'].dt.year\n",
    "    year=[x for x in df.year.unique()]\n",
    "    yeardict = {elem : pd.DataFrame() for elem in year}\n",
    "    \n",
    "    for key in yeardict.keys():\n",
    "        yeardict[key] = df[:][df.year == key]\n",
    "        \n",
    "    for key in tqdm(yeardict.keys(), 'Removing Low Variance step by step'):\n",
    "        print ('For Year: ',key)\n",
    "        globals()[\"df_pivot_\" + str(key)] = remove_low_variance_new(yeardict[key])\n",
    "    \n",
    "    print('Starting Concatenation: ')\n",
    "    for key in tqdm(yeardict.keys(), 'Concatenating Tables'):\n",
    "        new_df=pd.concat([globals()[\"df_pivot_\" + str(key)],new_df])  \n",
    "        \n",
    "    print('Ended Concatenation: ')    \n",
    "        \n",
    "    new_df['StaticVar'] = new_df['sex'].astype(str) + ', ' + \\\n",
    "    new_df['age'].astype(str) + ', ' +new_df['region'].astype(str) + ', '+ \\\n",
    "    new_df['plantyp'].astype(str) + ', ' +new_df['datatyp'].astype(str)+ \\\n",
    "                                                           ', '+ new_df['rx'].astype(str)\n",
    "\n",
    "    new_df.drop(['indexdate','sex' , 'age',  'region'  ,'plantyp','datatyp',  'rx',  'count','year'],axis=1,inplace=True)\n",
    "    new_df.to_csv('outpatient_dxcodes_final.csv')\n",
    "    print(new_df.head())"
   ]
  },
  {
   "cell_type": "code",
   "execution_count": 7,
   "metadata": {},
   "outputs": [],
   "source": [
    "def remove_low_variance_new(outpatient_concat_final):\n",
    "    print('Before removing: No of Concepts ',outpatient_concat_final['dx_truncated'].nunique())\n",
    "    threshold = 0.5\n",
    "    outpatient_pivot = outpatient_concat_final.pivot_table(index=['enrolid', 'svcdate'], columns='dx_truncated', values='count').fillna(0)\n",
    "    outpatient_pivot.drop(outpatient_pivot.std()[outpatient_pivot.std() < threshold].index.values, axis = 1, inplace = True)\n",
    "    concepts_final=outpatient_pivot.columns.to_frame()    \n",
    "    outpatient_concat_final_2 = outpatient_concat_final[outpatient_concat_final['dx_truncated'].isin(concepts_final['dx_truncated'])]\n",
    "    outpatient_concat_final_2.sort_values('enrolid',inplace=True)\n",
    "    outpatient_concat_final_2.dx_truncated.nunique()\n",
    "    print('After removing: No of Concepts ',outpatient_concat_final_2['dx_truncated'].nunique())\n",
    "    \n",
    "    return outpatient_concat_final_2"
   ]
  },
  {
   "cell_type": "code",
   "execution_count": 8,
   "metadata": {},
   "outputs": [],
   "source": [
    "def call_to_function(patient_cohort,outpatient_claims):\n",
    "    gc.collect()\n",
    "    outpatient_claims_joined=join_with_hfref(patient_cohort,outpatient_claims)\n",
    "    outpatient_concat=preprocess(outpatient_claims_joined)\n",
    "    gc.collect()\n",
    "    outpatient_clustered=calculate_clusters(outpatient_concat)\n",
    "    outpatient_concat_final=remove_low_frequency(outpatient_concat,outpatient_clustered)\n",
    "    gc.collect()\n",
    "    outpatient_concat_final['count'] = outpatient_concat_final.groupby(['enrolid','svcdate','dx_truncated'])['age'].transform('count')\n",
    "    #print('Before removing: No of Concepts ',outpatient_concat_final['dx_truncated'].nunique())\n",
    "    outpatient_concat_final.to_csv('outpatient_concat_final_bigfile.csv',sep=',');\n",
    "    \n",
    "    del outpatient_concat_final\n",
    "    gc.collect()    "
   ]
  },
  {
   "cell_type": "code",
   "execution_count": 9,
   "metadata": {
    "scrolled": false
   },
   "outputs": [
    {
     "name": "stdout",
     "output_type": "stream",
     "text": [
      "     dx_truncated  enrolid_count\n",
      "224           250        2204069\n",
      "1251          E11        1999938\n",
      "1570          I50        1917985\n",
      "1909          N18        1890688\n",
      "371           401        1884651\n",
      "Total: No of Concepts  2709\n",
      "Total: code occurences: 72323940\n",
      "     dx_truncated  enrolid_count  occur_rate\n",
      "224           250        2204069    0.030475\n",
      "1251          E11        1999938    0.027653\n",
      "1570          I50        1917985    0.026519\n",
      "1909          N18        1890688    0.026142\n",
      "371           401        1884651    0.026058\n",
      "     dx_truncated  enrolid_count  occur_rate\n",
      "224           250        2204069    0.030475\n",
      "1251          E11        1999938    0.027653\n",
      "1570          I50        1917985    0.026519\n",
      "1909          N18        1890688    0.026142\n",
      "371           401        1884651    0.026058\n",
      "Final total codes:  (1896, 3)\n",
      "      enrolid     svcdate indexdate dx_truncated  sex  age  region  plantyp  \\\n",
      "0  2845932202  2016-03-11    4/5/16          L89    1   63       2      5.0   \n",
      "1   607591401  2016-07-13  12/15/16          J44    1   61       2      2.0   \n",
      "2  3134716201  2013-01-07    1/6/16          729    1   73       1      6.0   \n",
      "3   614301501  2015-07-23   1/17/16          824    1   57       2      6.0   \n",
      "4  1783597701  2011-05-26   3/12/16          785    1   80       2      4.0   \n",
      "\n",
      "   datatyp  rx  \n",
      "0        1   1  \n",
      "1        3   1  \n",
      "2        3   1  \n",
      "3        1   1  \n",
      "4        4   1  \n"
     ]
    },
    {
     "data": {
      "application/vnd.jupyter.widget-view+json": {
       "model_id": "89ae4c03b3654624942639fefac6ea33",
       "version_major": 2,
       "version_minor": 0
      },
      "text/plain": [
       "HBox(children=(IntProgress(value=0, description='Removing Low Variance step by step', max=24, style=ProgressSt…"
      ]
     },
     "metadata": {},
     "output_type": "display_data"
    },
    {
     "name": "stdout",
     "output_type": "stream",
     "text": [
      "For Year:  2016\n",
      "Before removing: No of Concepts  1162\n",
      "After removing: No of Concepts  41\n",
      "For Year:  2013\n",
      "Before removing: No of Concepts  793\n",
      "After removing: No of Concepts  33\n",
      "For Year:  2015\n",
      "Before removing: No of Concepts  1885\n",
      "After removing: No of Concepts  37\n",
      "For Year:  2011\n",
      "Before removing: No of Concepts  783\n",
      "After removing: No of Concepts  18\n",
      "For Year:  2017\n",
      "Before removing: No of Concepts  1143\n",
      "After removing: No of Concepts  39\n",
      "For Year:  2014\n",
      "Before removing: No of Concepts  794\n",
      "After removing: No of Concepts  38\n",
      "For Year:  2008\n",
      "Before removing: No of Concepts  772\n",
      "After removing: No of Concepts  11\n",
      "For Year:  2005\n",
      "Before removing: No of Concepts  751\n",
      "After removing: No of Concepts  9\n",
      "For Year:  2012\n",
      "Before removing: No of Concepts  788\n",
      "After removing: No of Concepts  33\n",
      "For Year:  2010\n",
      "Before removing: No of Concepts  780\n",
      "After removing: No of Concepts  15\n",
      "For Year:  2004\n",
      "Before removing: No of Concepts  744\n",
      "After removing: No of Concepts  8\n",
      "For Year:  2002\n",
      "Before removing: No of Concepts  713\n",
      "After removing: No of Concepts  9\n",
      "For Year:  2006\n",
      "Before removing: No of Concepts  752\n",
      "After removing: No of Concepts  8\n",
      "For Year:  2009\n",
      "Before removing: No of Concepts  776\n",
      "After removing: No of Concepts  15\n",
      "For Year:  2007\n",
      "Before removing: No of Concepts  761\n",
      "After removing: No of Concepts  11\n",
      "For Year:  2003\n",
      "Before removing: No of Concepts  732\n",
      "After removing: No of Concepts  8\n",
      "For Year:  2001\n",
      "Before removing: No of Concepts  680\n",
      "After removing: No of Concepts  8\n",
      "For Year:  2000\n",
      "Before removing: No of Concepts  532\n",
      "After removing: No of Concepts  14\n",
      "For Year:  1995\n",
      "Before removing: No of Concepts  395\n",
      "After removing: No of Concepts  7\n",
      "For Year:  1996\n",
      "Before removing: No of Concepts  384\n",
      "After removing: No of Concepts  12\n",
      "For Year:  1998\n",
      "Before removing: No of Concepts  456\n",
      "After removing: No of Concepts  10\n",
      "For Year:  1999\n",
      "Before removing: No of Concepts  479\n",
      "After removing: No of Concepts  14\n",
      "For Year:  1997\n",
      "Before removing: No of Concepts  428\n",
      "After removing: No of Concepts  9\n",
      "For Year:  2018\n",
      "Before removing: No of Concepts  1133\n",
      "After removing: No of Concepts  42\n",
      "\n",
      "Starting Concatenation: \n"
     ]
    },
    {
     "data": {
      "application/vnd.jupyter.widget-view+json": {
       "model_id": "aab5459777a545eb8dcf4a5f0fa70742",
       "version_major": 2,
       "version_minor": 0
      },
      "text/plain": [
       "HBox(children=(IntProgress(value=0, description='Concatenating Tables', max=24, style=ProgressStyle(descriptio…"
      ]
     },
     "metadata": {},
     "output_type": "display_data"
    },
    {
     "name": "stdout",
     "output_type": "stream",
     "text": [
      "\n",
      "Ended Concatenation: \n",
      "          enrolid    svcdate dx_truncated            StaticVar\n",
      "27751237   927701 2018-06-20          I50  1, 79, 2, 6.0, 3, 1\n",
      "60745859   927701 2018-03-06          I10  1, 79, 2, 6.0, 3, 1\n",
      "45774794   927701 2018-03-06          E11  1, 79, 2, 6.0, 3, 1\n",
      "58588274   927701 2018-02-16          J44  1, 79, 2, 6.0, 3, 1\n",
      "60685546   927701 2018-05-01          I25  1, 79, 2, 6.0, 3, 1\n"
     ]
    }
   ],
   "source": [
    "def main():\n",
    "        patient_cohort = pd.read_csv(\"hfref_pt_index.csv\", low_memory=False)\n",
    "        patient_cohort.columns = map(str.lower, patient_cohort.columns)\n",
    "        outpatient_claims = pd.read_csv(\"concepts_data/patient_cohort_outpatient_claims.csv\", low_memory=False)\n",
    "        gc.collect()\n",
    "        call_to_function(patient_cohort,outpatient_claims)\n",
    "        pivot_outpatient_remove_low_variance()\n",
    "    \n",
    "if __name__ == \"__main__\":\n",
    "    main()"
   ]
  },
  {
   "cell_type": "markdown",
   "metadata": {},
   "source": [
    "## PROC Typ 1&7 Decodes"
   ]
  },
  {
   "cell_type": "code",
   "execution_count": 30,
   "metadata": {},
   "outputs": [],
   "source": [
    "outpatient_claims = pd.read_csv(\"concepts_data/patient_cohort_outpatient_claims.csv\", low_memory=False)\n",
    "patient_cohort = pd.read_csv(\"hfref_pt_index.csv\", low_memory=False)\n",
    "patient_cohort.columns = map(str.lower, patient_cohort.columns)\n",
    "outpatient_claims_joined = pd.merge(outpatient_claims, patient_cohort, on=\"enrolid\", how=\"left\")\n"
   ]
  },
  {
   "cell_type": "code",
   "execution_count": 4,
   "metadata": {},
   "outputs": [
    {
     "data": {
      "text/plain": [
       "(33408115, 22)"
      ]
     },
     "execution_count": 4,
     "metadata": {},
     "output_type": "execute_result"
    }
   ],
   "source": [
    "outpatient_claims = pd.read_csv(\"concepts_data/patient_cohort_outpatient_claims.csv\", low_memory=False)\n",
    "patient_cohort = pd.read_csv(\"hfref_pt_index.csv\", low_memory=False)\n",
    "patient_cohort.columns = map(str.lower, patient_cohort.columns)\n",
    "outpatient_claims_joined = pd.merge(outpatient_claims, patient_cohort, on=\"enrolid\", how=\"left\")\n",
    "\n",
    "\n",
    "\n",
    "outpatient_claims_joined.shape\n"
   ]
  },
  {
   "cell_type": "code",
   "execution_count": null,
   "metadata": {},
   "outputs": [],
   "source": [
    "(33408115, 19)\n",
    "In [31]:\n"
   ]
  },
  {
   "cell_type": "code",
   "execution_count": 31,
   "metadata": {},
   "outputs": [],
   "source": [
    "subset=outpatient_claims_joined[outpatient_claims_joined['proctyp']=='1']\n",
    "subset=subset[np.logical_not(subset['proc1'].isna())]\n",
    "subset_cat1=subset[np.logical_not(subset.proc1.str.contains('F|T|U'))]\n",
    "subset_cat2=subset[subset.proc1.str.contains('F')]\n",
    "subset_cat1.proc1=subset_cat1.proc1.astype(int)"
   ]
  },
  {
   "cell_type": "code",
   "execution_count": 32,
   "metadata": {},
   "outputs": [],
   "source": [
    "subset_cat1['Proc1_decodes']=''\n",
    "subset_cat1.loc[((subset_cat1['proc1'] >= 0) & (subset_cat1['proc1'] <= 9999)),'Proc1_decodes']='Anesthesia Services'\n",
    "subset_cat1.loc[((subset_cat1['proc1'] >= 10000) & (subset_cat1['proc1'] <= 19999)),'Proc1_decodes']='Integumentary System'\n",
    "subset_cat1.loc[((subset_cat1['proc1'] >= 20000) & (subset_cat1['proc1'] <= 29999)),'Proc1_decodes']='Musculoskeletal System'\n",
    "subset_cat1.loc[((subset_cat1['proc1'] >= 30000) & (subset_cat1['proc1'] <= 39999)),'Proc1_decodes']='Respiratory, Cardiovascular, Hemic, and Lymphatic System'\n",
    "subset_cat1.loc[((subset_cat1['proc1'] >= 40000) & (subset_cat1['proc1'] <= 49999)),'Proc1_decodes']='Digestive System'\n",
    "subset_cat1.loc[((subset_cat1['proc1'] >= 50000) & (subset_cat1['proc1'] <= 59999)),'Proc1_decodes']='Urinary, Male Genital, Female Genital, Maternity Care, and Delivery System'\n",
    "subset_cat1.loc[((subset_cat1['proc1'] >= 60000) & (subset_cat1['proc1'] <= 69999)),'Proc1_decodes']='Endocrine, Nervous, Eye and Ocular Adnexa, Auditory System'\n",
    "subset_cat1.loc[((subset_cat1['proc1'] >= 70000) & (subset_cat1['proc1'] <= 79999)),'Proc1_decodes']='Radiology Services'\n",
    "subset_cat1.loc[((subset_cat1['proc1'] >= 80000) & (subset_cat1['proc1'] <= 89999)),'Proc1_decodes']='Pathology and Laboratory Services'\n",
    "subset_cat1.loc[((subset_cat1['proc1'] >= 90000) & (subset_cat1['proc1'] <= 99999)),'Proc1_decodes']='Evaluation & Management Services'"
   ]
  },
  {
   "cell_type": "code",
   "execution_count": 33,
   "metadata": {},
   "outputs": [],
   "source": [
    "def truncate_code(dx_code):\n",
    "    new_code = str(dx_code)[0:4]\n",
    "    \n",
    "    return new_code\n",
    "\n",
    "subset_cat2['proc1_int_part'] = subset_cat2[\"proc1\"].apply(lambda x: truncate_code(x))\n",
    "subset_cat2.proc1_int_part=subset_cat2.proc1_int_part.astype(int)"
   ]
  },
  {
   "cell_type": "code",
   "execution_count": 34,
   "metadata": {},
   "outputs": [],
   "source": [
    "subset_cat2['Proc1_decodes']=''\n",
    "subset_cat2.loc[((subset_cat2['proc1_int_part'] >= 1) & (subset_cat2['proc1_int_part'] <= 15)),'Proc1_decodes']='Composite measures'\n",
    "subset_cat2.loc[((subset_cat2['proc1_int_part'] >= 500) & (subset_cat2['proc1_int_part'] <= 575)),'Proc1_decodes']='Patient management'\n",
    "subset_cat2.loc[((subset_cat2['proc1_int_part'] >= 1000) & (subset_cat2['proc1_int_part'] <= 1220)),'Proc1_decodes']='Patient history'\n",
    "subset_cat2.loc[((subset_cat2['proc1_int_part'] >= 2000) & (subset_cat2['proc1_int_part'] <= 2050)),'Proc1_decodes']='Physical examination'\n",
    "subset_cat2.loc[((subset_cat2['proc1_int_part'] >= 3006) & (subset_cat2['proc1_int_part'] <= 3573)),'Proc1_decodes']='Diagnostic/screening processes or results'\n",
    "subset_cat2.loc[((subset_cat2['proc1_int_part'] >= 4000) & (subset_cat2['proc1_int_part'] <= 4306)),'Proc1_decodes']='Therapeutic, preventive or other interventions'\n",
    "subset_cat2.loc[((subset_cat2['proc1_int_part'] >= 5005) & (subset_cat2['proc1_int_part'] <= 5100)),'Proc1_decodes']='Follow-up or other outcomes'\n",
    "subset_cat2.loc[((subset_cat2['proc1_int_part'] >= 6005) & (subset_cat2['proc1_int_part'] <= 6045)),'Proc1_decodes']='Patient safety'\n",
    "subset_cat2.loc[((subset_cat2['proc1_int_part'] >= 7010) & (subset_cat2['proc1_int_part'] <= 7025)),'Proc1_decodes']='Structural Measures'"
   ]
  },
  {
   "cell_type": "code",
   "execution_count": 35,
   "metadata": {},
   "outputs": [],
   "source": [
    "subset_hcpc=outpatient_claims_joined[outpatient_claims_joined['proctyp']=='7']\n",
    "subset_hcpc=subset_hcpc[np.logical_not(subset_hcpc['proc1'].isna())]"
   ]
  },
  {
   "cell_type": "code",
   "execution_count": 36,
   "metadata": {},
   "outputs": [],
   "source": [
    "subset_hcpc['Proc1_decodes']=''\n",
    "subset_hcpc.loc[(subset_hcpc['proc1'].str.startswith('A')),'Proc1_decodes']='Transportation Services Including Ambulance, Medical & Surgical Supplies'\n",
    "subset_hcpc.loc[(subset_hcpc['proc1'].str.startswith('B')),'Proc1_decodes']='Enteral and Parenteral Therapy'\n",
    "subset_hcpc.loc[(subset_hcpc['proc1'].str.startswith('C')),'Proc1_decodes']='Temporary Codes for Use with Outpatient Prospective Payment System'\n",
    "subset_hcpc.loc[(subset_hcpc['proc1'].str.startswith('E')),'Proc1_decodes']='Durable Medical Equipment (DME)'\n",
    "subset_hcpc.loc[(subset_hcpc['proc1'].str.startswith('G')),'Proc1_decodes']='Procedures/Professional Services (Temporary Codes)'\n",
    "subset_hcpc.loc[(subset_hcpc['proc1'].str.startswith('H')),'Proc1_decodes']='Alcohol and Drug Abuse Treatment Services / Rehabilitative Services'\n",
    "subset_hcpc.loc[(subset_hcpc['proc1'].str.startswith('J')),'Proc1_decodes']='Drugs administered other than oral method, chemotherapy drugs'\n",
    "subset_hcpc.loc[(subset_hcpc['proc1'].str.startswith('K')),'Proc1_decodes']=\"Durable Medical Equipment for Medicare Administrative Contractors (DME MACs)\"\n",
    "subset_hcpc.loc[(subset_hcpc['proc1'].str.startswith('L')),'Proc1_decodes']='Orthotic and Prosthetic Procedures, Devices'\n",
    "subset_hcpc.loc[(subset_hcpc['proc1'].str.startswith('M')),'Proc1_decodes']='Medical services'\n",
    "subset_hcpc.loc[(subset_hcpc['proc1'].str.startswith('P')),'Proc1_decodes']='Pathology and Laboratory Services'\n",
    "subset_hcpc.loc[(subset_hcpc['proc1'].str.startswith('Q')),'Proc1_decodes']='Miscellaneous Services (Temporary Codes)'\n",
    "subset_hcpc.loc[(subset_hcpc['proc1'].str.startswith('R')),'Proc1_decodes']='Diagnostic Radiology Services'\n",
    "subset_hcpc.loc[(subset_hcpc['proc1'].str.startswith('S')),'Proc1_decodes']='Commercial Payers (Temporary Codes)'\n",
    "subset_hcpc.loc[(subset_hcpc['proc1'].str.startswith('T')),'Proc1_decodes']='Established for State Medical Agencies'\n",
    "subset_hcpc.loc[(subset_hcpc['proc1'].str.startswith('V')),'Proc1_decodes']='Vision, Hearing and Speech-Language Pathology Services'"
   ]
  },
  {
   "cell_type": "code",
   "execution_count": 37,
   "metadata": {},
   "outputs": [],
   "source": [
    "final_subset=pd.concat([subset_cat1,subset_cat2,subset_hcpc])\n",
    "final_df = final_subset[final_subset['Proc1_decodes']!='']\n",
    "outpatient_clustered_procs = final_df[['enrolid', 'Proc1_decodes']]\n",
    "outpatient_clustered_procs = outpatient_clustered_procs.groupby(['Proc1_decodes']).count().reset_index()\n",
    "outpatient_clustered_procs = outpatient_clustered_procs.sort_values(by='enrolid', ascending=False)\n",
    "outpatient_clustered_procs = outpatient_clustered_procs.rename(columns={\"enrolid\": \"enrolid_count\"})"
   ]
  },
  {
   "cell_type": "code",
   "execution_count": 38,
   "metadata": {},
   "outputs": [
    {
     "name": "stdout",
     "output_type": "stream",
     "text": [
      "Total: No of Concepts  34\n",
      "Total: code occurences: 30927641\n",
      "                                        Proc1_decodes  enrolid_count  \\\n",
      "13                   Evaluation & Management Services       13391911   \n",
      "20                  Pathology and Laboratory Services        6067066   \n",
      "26                                 Radiology Services        2306562   \n",
      "31  Transportation Services Including Ambulance, M...        1547134   \n",
      "25  Procedures/Professional Services (Temporary Co...        1529268   \n",
      "\n",
      "    occur_rate  \n",
      "13    0.433008  \n",
      "20    0.196170  \n",
      "26    0.074579  \n",
      "31    0.050024  \n",
      "25    0.049447  \n",
      "                                        Proc1_decodes  enrolid_count  \\\n",
      "13                   Evaluation & Management Services       13391911   \n",
      "20                  Pathology and Laboratory Services        6067066   \n",
      "26                                 Radiology Services        2306562   \n",
      "31  Transportation Services Including Ambulance, M...        1547134   \n",
      "25  Procedures/Professional Services (Temporary Co...        1529268   \n",
      "\n",
      "    occur_rate  \n",
      "13    0.433008  \n",
      "20    0.196170  \n",
      "26    0.074579  \n",
      "31    0.050024  \n",
      "25    0.049447  \n",
      "Final total codes:  (24, 3)\n",
      "                                       Proc1_decodes  age  coins  copay  \\\n",
      "1                   Evaluation & Management Services   61   1.47    0.0   \n",
      "2                             Musculoskeletal System   73   0.00    0.0   \n",
      "3                   Evaluation & Management Services   57   0.00    0.0   \n",
      "4                   Evaluation & Management Services   80   0.00    0.0   \n",
      "5  Respiratory, Cardiovascular, Hemic, and Lympha...   69   0.00    0.0   \n",
      "\n",
      "   datatyp  deduct   dx1    dx2    dx3  dx4  ...  proc1 proc1_int_part  \\\n",
      "1        3    0.00  J449  R0902    NaN  NaN  ...  99232            NaN   \n",
      "2        3    0.00  7291   7202  72885  NaN  ...  20610            NaN   \n",
      "3        1    0.00  8244  E8136    NaN  NaN  ...  99285            NaN   \n",
      "4        4    0.00  7852    NaN    NaN  NaN  ...  93306            NaN   \n",
      "5        3    0.01  I130    NaN    NaN  NaN  ...  36415            NaN   \n",
      "\n",
      "   proctyp  region rx  sex stdplac     svcdate  worsen  worsening_dt  \n",
      "1        1       2  1    1    21.0  2016-07-13       1       2/22/17  \n",
      "2        1       1  1    1    11.0  2013-01-07       1        7/7/16  \n",
      "3        1       2  1    1    22.0  2015-07-23       1       1/18/16  \n",
      "4        1       2  1    1    22.0  2011-05-26       0        1/1/60  \n",
      "5        1       3  1    1    81.0  2017-03-28       0        1/1/60  \n",
      "\n",
      "[5 rows x 24 columns]\n"
     ]
    }
   ],
   "source": [
    "total_occur = sum(outpatient_clustered_procs['enrolid_count'])\n",
    "print (\"Total: No of Concepts \", outpatient_clustered_procs.shape[0])\n",
    "print (\"Total: code occurences:\", total_occur)\n",
    "outpatient_clustered_procs['occur_rate'] = outpatient_clustered_procs['enrolid_count'].apply(lambda x: float(x/total_occur))\n",
    "print (outpatient_clustered_procs.head())\n",
    "outpatient_clustered_final_procs=outpatient_clustered_procs[outpatient_clustered_procs.enrolid_count > outpatient_clustered_procs.enrolid_count.quantile(.30)]\n",
    "print (outpatient_clustered_final_procs.head())\n",
    "print (\"Final total codes: \", outpatient_clustered_final_procs.shape)\n",
    "outpatient_clustered_final_procs = final_df[final_df['Proc1_decodes'].isin(outpatient_clustered_final_procs['Proc1_decodes'])]\n",
    "print(outpatient_clustered_final_procs.head())\n",
    "    "
   ]
  },
  {
   "cell_type": "code",
   "execution_count": 39,
   "metadata": {},
   "outputs": [
    {
     "name": "stdout",
     "output_type": "stream",
     "text": [
      "Before removing: No of Concepts  24\n",
      "After removing: No of Concepts  6\n"
     ]
    }
   ],
   "source": [
    "outpatient_clustered_final_procs['count'] = outpatient_clustered_final_procs.groupby(['enrolid','svcdate','Proc1_decodes'])['age'].transform('count')\n",
    "print('Before removing: No of Concepts ',outpatient_clustered_final_procs['Proc1_decodes'].nunique())\n",
    "threshold = 0.5\n",
    "outpatient_pivot_procs = outpatient_clustered_final_procs.pivot_table(index=['enrolid', 'svcdate'], columns='Proc1_decodes', values='count').fillna(0)\n",
    "outpatient_pivot_procs.drop(outpatient_pivot_procs.std()[outpatient_pivot_procs.std() < threshold].index.values, axis = 1, inplace = True)\n",
    "concepts_final_procs=outpatient_pivot_procs.columns.to_frame()    \n",
    "outpatient_clustered_final_procs_2 = outpatient_clustered_final_procs[outpatient_clustered_final_procs['Proc1_decodes'].isin(concepts_final_procs['Proc1_decodes'])]\n",
    "outpatient_clustered_final_procs_2.sort_values('enrolid',inplace=True)\n",
    "outpatient_clustered_final_procs_2.Proc1_decodes.nunique()\n",
    "print('After removing: No of Concepts ',outpatient_clustered_final_procs_2['Proc1_decodes'].nunique())\n",
    "    "
   ]
  },
  {
   "cell_type": "code",
   "execution_count": 40,
   "metadata": {},
   "outputs": [],
   "source": [
    "outpatient_clustered_final_procs_2['StaticVar'] = outpatient_clustered_final_procs_2['sex'].astype(str) + ', ' + \\\n",
    "outpatient_clustered_final_procs_2['age'].astype(str) + ', ' +outpatient_clustered_final_procs_2['region'].astype(str) + ', '+ \\\n",
    "outpatient_clustered_final_procs_2['plantyp'].astype(str) + ', ' +outpatient_clustered_final_procs_2['datatyp'].astype(str)+ \\\n",
    "                                                           ', '+ outpatient_clustered_final_procs_2['rx'].astype(str)\n"
   ]
  },
  {
   "cell_type": "code",
   "execution_count": 41,
   "metadata": {},
   "outputs": [],
   "source": [
    "#outpatient_clustered_final_procs_2.drop(['coins','copay','deduct','dx1','dx2','dx3','dx4','pay','proc1','proc1_int_part','indexdate','sex' , 'age',  'region' ,'proctyp' ,'plantyp','datatyp',  'rx',  'count','worsen','worsening_dt','stdplac'],axis=1,inplace=True)"
   ]
  },
  {
   "cell_type": "code",
   "execution_count": 44,
   "metadata": {},
   "outputs": [],
   "source": []
  },
  {
   "cell_type": "code",
   "execution_count": 58,
   "metadata": {},
   "outputs": [
    {
     "data": {
      "text/plain": [
       "Evaluation & Management Services                                            13391911\n",
       "Pathology and Laboratory Services                                            6067066\n",
       "Radiology Services                                                           2306562\n",
       "Transportation Services Including Ambulance, Medical & Surgical Supplies     1547134\n",
       "Procedures/Professional Services (Temporary Codes)                           1529268\n",
       "Drugs administered other than oral method, chemotherapy drugs                1508488\n",
       "Name: Proc1_decodes, dtype: int64"
      ]
     },
     "execution_count": 58,
     "metadata": {},
     "output_type": "execute_result"
    }
   ],
   "source": [
    "outpatient_clustered_final_procs_2.Proc1_decodes.value_counts()"
   ]
  },
  {
   "cell_type": "code",
   "execution_count": null,
   "metadata": {},
   "outputs": [],
   "source": [
    "outpatient_clustered_final_procs_2=outpatient_clustered_final_procs_2[['enrolid','svcdate','Proc1_decodes','StaticVar']]\n",
    "outpatient_clustered_final_procs_2.head()\n"
   ]
  },
  {
   "cell_type": "code",
   "execution_count": null,
   "metadata": {},
   "outputs": [],
   "source": [
    "outpatient_clustered_final_procs_2.to_csv('outpatient_proc_codes_final.csv')"
   ]
  }
 ],
 "metadata": {
  "kernelspec": {
   "display_name": "Python 3",
   "language": "python",
   "name": "python3"
  },
  "language_info": {
   "codemirror_mode": {
    "name": "ipython",
    "version": 3
   },
   "file_extension": ".py",
   "mimetype": "text/x-python",
   "name": "python",
   "nbconvert_exporter": "python",
   "pygments_lexer": "ipython3",
   "version": "3.7.3"
  }
 },
 "nbformat": 4,
 "nbformat_minor": 2
}
