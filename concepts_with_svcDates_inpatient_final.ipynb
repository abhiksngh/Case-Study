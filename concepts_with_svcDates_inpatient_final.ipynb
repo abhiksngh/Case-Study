{
 "cells": [
  {
   "cell_type": "code",
   "execution_count": 3,
   "metadata": {},
   "outputs": [],
   "source": [
    "from __future__ import print_function\n",
    "import pandas as pd\n",
    "import numpy as np\n",
    "import sys\n",
    "import warnings\n",
    "warnings.filterwarnings('ignore')\n"
   ]
  },
  {
   "cell_type": "code",
   "execution_count": 4,
   "metadata": {},
   "outputs": [],
   "source": [
    "def join_with_hfref(patient_cohort,inpatient_claims):\n",
    "    inpatient_claims_joined = pd.merge(inpatient_claims, patient_cohort, on=\"enrolid\", how=\"left\")\n",
    "    \n",
    "    return inpatient_claims_joined"
   ]
  },
  {
   "cell_type": "code",
   "execution_count": 5,
   "metadata": {},
   "outputs": [],
   "source": [
    "def preprocess(inpatient_claims_joined):\n",
    "    inpatient_dx1 = inpatient_claims_joined.drop(columns=['dx2', 'dx3', 'dx4', 'pdx'])\n",
    "    inpatient_dx2 = inpatient_claims_joined.drop(columns=['dx1', 'dx3', 'dx4', 'pdx'])\n",
    "    inpatient_dx3 = inpatient_claims_joined.drop(columns=['dx1', 'dx2', 'dx4', 'pdx'])\n",
    "    inpatient_dx4 = inpatient_claims_joined.drop(columns=['dx1', 'dx2', 'dx3', 'pdx'])\n",
    "    inpatient_dx5 = inpatient_claims_joined.drop(columns=['dx1', 'dx2', 'dx3', 'dx4'])\n",
    "    inpatient_dx1[\"dx_truncated\"] = inpatient_dx1[\"dx1\"].apply(lambda x: truncate_code(x))\n",
    "    inpatient_dx2[\"dx_truncated\"] = inpatient_dx2[\"dx2\"].apply(lambda x: truncate_code(x))\n",
    "    inpatient_dx3[\"dx_truncated\"] = inpatient_dx3[\"dx3\"].apply(lambda x: truncate_code(x))\n",
    "    inpatient_dx4[\"dx_truncated\"] = inpatient_dx4[\"dx4\"].apply(lambda x: truncate_code(x))\n",
    "    inpatient_dx5[\"dx_truncated\"] = inpatient_dx5[\"pdx\"].apply(lambda x: truncate_code(x))\n",
    "    inpatient_dx1_select = inpatient_dx1[['enrolid', 'svcdate', 'indexdate', 'dx_truncated', 'sex', 'age', 'region', 'plantyp', 'datatyp', 'rx']]\n",
    "    inpatient_dx2_select = inpatient_dx2[['enrolid', 'svcdate', 'indexdate', 'dx_truncated', 'sex', 'age', 'region', 'plantyp', 'datatyp', 'rx']]\n",
    "    inpatient_dx3_select = inpatient_dx3[['enrolid', 'svcdate', 'indexdate', 'dx_truncated', 'sex', 'age', 'region', 'plantyp', 'datatyp', 'rx']]\n",
    "    inpatient_dx4_select = inpatient_dx4[['enrolid', 'svcdate', 'indexdate', 'dx_truncated', 'sex', 'age', 'region', 'plantyp', 'datatyp', 'rx']]\n",
    "    inpatient_dx5_select = inpatient_dx5[['enrolid', 'svcdate', 'indexdate', 'dx_truncated', 'sex', 'age', 'region', 'plantyp', 'datatyp', 'rx']]\n",
    "    inpatient_concat = pd.concat([inpatient_dx1_select, inpatient_dx2_select, inpatient_dx3_select,inpatient_dx4_select, inpatient_dx5_select], ignore_index=True)\n",
    "    inpatient_concat = inpatient_concat[inpatient_concat['dx_truncated']!='nan']\n",
    "    \n",
    "    return inpatient_concat\n",
    "    '''Space for incorporating PROC & NDCNUM'''\n",
    "    \n",
    "    \n",
    "def truncate_code(dx_code):\n",
    "    new_code = str(dx_code)[0:3]\n",
    "    \n",
    "    return new_code    "
   ]
  },
  {
   "cell_type": "code",
   "execution_count": 6,
   "metadata": {},
   "outputs": [],
   "source": [
    "def calculate_clusters(inpatient_concat):\n",
    "    ## Cluster dx codes based on truncated code\n",
    "    inpatient_clustered = inpatient_concat[['enrolid', 'dx_truncated']]\n",
    "    inpatient_clustered = inpatient_clustered.groupby(['dx_truncated']).count().reset_index()\n",
    "    inpatient_clustered = inpatient_clustered.sort_values(by='enrolid', ascending=False)\n",
    "    inpatient_clustered = inpatient_clustered.rename(columns={\"dx_truncated\": \"dx_truncated\", \"enrolid\": \"enrolid_count\"})\n",
    "    print (inpatient_clustered.head())\n",
    "    \n",
    "    return inpatient_clustered\n",
    "    #inpatient_clustered = inpatient_clustered.sort_values(by='')\n",
    "    "
   ]
  },
  {
   "cell_type": "code",
   "execution_count": 7,
   "metadata": {},
   "outputs": [],
   "source": [
    "def remove_low_frequency(inpatient_concat,inpatient_clustered):\n",
    "    total_occur = sum(inpatient_clustered['enrolid_count'])\n",
    "    print (\"Total: No of Concepts \", inpatient_clustered.shape[0])\n",
    "    print (\"Total: code occurences:\", total_occur)\n",
    "    inpatient_clustered['occur_rate'] = inpatient_clustered['enrolid_count'].apply(lambda x: float(x/total_occur))\n",
    "    print (inpatient_clustered.head())\n",
    "    ##Remove least frequently occurring codes\n",
    "    inpatient_clustered_final=inpatient_clustered[inpatient_clustered.enrolid_count > inpatient_clustered.enrolid_count.quantile(.30)]\n",
    "    print (inpatient_clustered_final.head())\n",
    "    print (\"Final total codes: \", inpatient_clustered_final.shape)\n",
    "    ## Subset original claims df by leftover codes (inpatient concat)\n",
    "    inpatient_concat_final = inpatient_concat[inpatient_concat['dx_truncated'].isin(inpatient_clustered_final['dx_truncated'])]\n",
    "    print(inpatient_concat_final.head())\n",
    "    \n",
    "    return inpatient_concat_final"
   ]
  },
  {
   "cell_type": "code",
   "execution_count": 8,
   "metadata": {},
   "outputs": [],
   "source": [
    "def remove_low_variance(inpatient_concat_final):\n",
    "    #inpatient_group=inpatient_concat_final.groupby(['enrolid','indexdate','dx_truncated'])['age'].count().to_frame().reset_index()\n",
    "    #inpatient_group=inpatient_group.rename(columns = {'age':'count'})\n",
    "    inpatient_concat_final['count'] = inpatient_concat_final.groupby(['enrolid','svcdate','dx_truncated'])['age'].transform('count')\n",
    "    print('Before removing: No of Concepts ',inpatient_concat_final['dx_truncated'].nunique())\n",
    "    #standard deviation threshold\n",
    "    threshold = 0.5\n",
    "    inpatient_pivot = inpatient_concat_final.pivot_table(index=['enrolid', 'svcdate'], columns='dx_truncated', values='count').fillna(0)\n",
    "    inpatient_pivot.drop(inpatient_pivot.std()[inpatient_pivot.std() < threshold].index.values, axis = 1, inplace = True)\n",
    "    concepts_final=inpatient_pivot.columns.to_frame()    \n",
    "    inpatient_concat_final_2 = inpatient_concat_final[inpatient_concat_final['dx_truncated'].isin(concepts_final['dx_truncated'])]\n",
    "    inpatient_concat_final_2.sort_values('enrolid',inplace=True)\n",
    "    inpatient_concat_final_2.dx_truncated.nunique()\n",
    "    print('After removing: No of Concepts ',inpatient_concat_final_2['dx_truncated'].nunique())\n",
    "    \n",
    "    return inpatient_concat_final_2\n",
    "\n",
    "    "
   ]
  },
  {
   "cell_type": "code",
   "execution_count": 9,
   "metadata": {},
   "outputs": [],
   "source": [
    "def final_table(inpatient_concat_final_2):\n",
    "    inpatient_concat_final_2['StaticVar'] = inpatient_concat_final_2['sex'].astype(str) + ', ' + \\\n",
    "    inpatient_concat_final_2['age'].astype(str) + ', ' +inpatient_concat_final_2['region'].astype(str) + ', '+ \\\n",
    "    inpatient_concat_final_2['plantyp'].astype(str) + ', ' +inpatient_concat_final_2['datatyp'].astype(str)+ \\\n",
    "                                                           ', '+ inpatient_concat_final_2['rx'].astype(str)\n",
    "\n",
    "    return inpatient_concat_final_2\n",
    "\n"
   ]
  },
  {
   "cell_type": "code",
   "execution_count": 10,
   "metadata": {},
   "outputs": [],
   "source": [
    "def call_to_function(patient_cohort,inpatient_claims):\n",
    "    inpatient_claims_joined=join_with_hfref(patient_cohort,inpatient_claims)\n",
    "    inpatient_concat=preprocess(inpatient_claims_joined)\n",
    "    inpatient_clustered=calculate_clusters(inpatient_concat)\n",
    "    inpatient_concat_final=remove_low_frequency(inpatient_concat,inpatient_clustered)\n",
    "    inpatient_concat_final_2=remove_low_variance(inpatient_concat_final)\n",
    "    inpatient_concat_final_2=final_table(inpatient_concat_final_2)\n",
    "    inpatient_concat_final_2.drop(['indexdate','sex' , 'age',  'region'  ,'plantyp','datatyp',  'rx',  'count'],axis=1,inplace=True)\n",
    "    print(inpatient_concat_final_2.dx_truncated.unique())\n",
    "    inpatient_concat_final_2.to_csv('Inpatient_dxcodes_final.csv', sep=\",\",index=False)\n",
    "    print(inpatient_concat_final_2.head())\n",
    "    #inpatient_concat_final_2.to_csv(output_file, sep=\",\")\n",
    "    #print(inpatient_concat_final_2.dx_truncated.values)\n",
    "    \n",
    "    return inpatient_concat_final_2\n",
    "    "
   ]
  },
  {
   "cell_type": "code",
   "execution_count": 12,
   "metadata": {},
   "outputs": [
    {
     "name": "stdout",
     "output_type": "stream",
     "text": [
      "     dx_truncated  enrolid_count\n",
      "1454          I50         990473\n",
      "355           428         711604\n",
      "354           427         474646\n",
      "1162          E11         455556\n",
      "343           414         438274\n",
      "Total: No of Concepts  2446\n",
      "Total: code occurences: 18822202\n",
      "     dx_truncated  enrolid_count  occur_rate\n",
      "1454          I50         990473    0.052623\n",
      "355           428         711604    0.037807\n",
      "354           427         474646    0.025217\n",
      "1162          E11         455556    0.024203\n",
      "343           414         438274    0.023285\n",
      "     dx_truncated  enrolid_count  occur_rate\n",
      "1454          I50         990473    0.052623\n",
      "355           428         711604    0.037807\n",
      "354           427         474646    0.025217\n",
      "1162          E11         455556    0.024203\n",
      "343           414         438274    0.023285\n",
      "Final total codes:  (1712, 3)\n",
      "       enrolid     svcdate indexdate dx_truncated  sex  age  region  plantyp  \\\n",
      "0    622513601  2015-03-20   9/27/16          427    2   67       2      2.0   \n",
      "1   2573874101  2017-03-01   2/17/16          J18    2   89       1      2.0   \n",
      "2    604044601  2016-07-05    7/5/16          I42    1   69       3      2.0   \n",
      "3   1268178101  2017-06-27   3/29/16          I11    1   68       2      2.0   \n",
      "4  25048800001  2015-06-29    5/4/16          786    1   59       3      6.0   \n",
      "\n",
      "   datatyp  rx  \n",
      "0        3   1  \n",
      "1        3   1  \n",
      "2        3   1  \n",
      "3        3   1  \n",
      "4        1   1  \n",
      "Before removing: No of Concepts  1712\n",
      "After removing: No of Concepts  172\n",
      "['N18' 'G93' 'D50' '715' 'E11' 'I69' 'I63' '428' 'N17' 'I10' 'R55' '250'\n",
      " 'I13' 'J44' '285' '305' 'I21' 'D64' 'I25' 'I50' 'R06' 'I48' 'J96' '401'\n",
      " 'G40' 'N39' 'R53' 'D72' 'E78' 'J69' '786' '682' 'D63' 'S06' 'J18' 'R07'\n",
      " '272' '276' '435' '278' '780' '348' 'G47' '244' '434' '599' '486' 'I08'\n",
      " '410' 'A41' '414' 'T82' '426' '530' '425' '427' '404' '518' '721' '724'\n",
      " '482' '415' '584' '722' 'I47' 'I42' '424' 'I11' '411' '041' 'F17' 'E87'\n",
      " '493' 'E66' '785' 'L03' 'I12' 'I31' 'D61' '585' 'I34' 'J15' 'R57' 'T81'\n",
      " 'I82' 'J90' 'B96' 'I70' 'J95' 'K92' 'E83' 'K72' 'I33' 'I95' 'T80' 'I71'\n",
      " '440' '433' 'E10' 'A04' '577' '008' '575' 'E43' 'M86' 'E03' '789' 'K85'\n",
      " 'E86' '403' 'D62' '458' '511' '569' '574' 'K29' 'J10' 'G45' '535' 'I46'\n",
      " 'K80' 'I27' '280' '038' 'V57' '402' '491' 'A40' 'I44' 'I49' 'T85' '996'\n",
      " '453' '578' '562' '275' '997' '441' 'D68' '423' 'I35' 'D69' 'M16' 'M17'\n",
      " '592' '444' 'T84' '820' '733' 'S72' '416' 'I26' 'K56' '202' 'K55' 'K26'\n",
      " '746' 'F32' 'B37' 'K57' '998' 'C78' '560' '396' 'M48' 'M51' 'T83' '805'\n",
      " 'S82' 'C34' 'S32' 'T86']\n",
      "          enrolid     svcdate dx_truncated            StaticVar\n",
      "20103532   927701  2018-03-29          N18  1, 79, 2, 6.0, 3, 1\n",
      "25118291   927701  2016-06-04          G93  1, 77, 2, 6.0, 3, 1\n",
      "858280     927701  2018-03-26          D50  1, 79, 2, 6.0, 3, 1\n",
      "4798661    927701  2009-06-15          715  1, 70, 2, 6.0, 3, 1\n",
      "8461104    927701  2015-11-08          E11  1, 77, 2, 6.0, 3, 1\n"
     ]
    }
   ],
   "source": [
    "def main():\n",
    "        patient_cohort = pd.read_csv(\"hfref_pt_index.csv\", low_memory=False)\n",
    "        patient_cohort.columns = map(str.lower, patient_cohort.columns)\n",
    "        inpatient_claims = pd.read_csv(\"concepts_data/patient_cohort_inpatient_claims.csv\", low_memory=False)\n",
    "        call_to_function(patient_cohort,inpatient_claims)\n",
    "    \n",
    "if __name__ == \"__main__\":\n",
    "    main()"
   ]
  },
  {
   "cell_type": "markdown",
   "metadata": {},
   "source": [
    "If the above code gives a IOPub error run below cell to check the concepts"
   ]
  },
  {
   "cell_type": "code",
   "execution_count": null,
   "metadata": {
    "scrolled": true
   },
   "outputs": [],
   "source": [
    "medical_codes=pd.read_csv('inpatient_dxcodes_final.csv')\n",
    "medical_codes.dx_truncated.unique()"
   ]
  },
  {
   "cell_type": "markdown",
   "metadata": {},
   "source": [
    "## PROC Typ 1&7 Decodes"
   ]
  },
  {
   "cell_type": "code",
   "execution_count": 13,
   "metadata": {},
   "outputs": [],
   "source": [
    "inpatient_claims = pd.read_csv(\"concepts_data/patient_cohort_inpatient_claims.csv\", low_memory=False)\n",
    "patient_cohort = pd.read_csv(\"hfref_pt_index.csv\", low_memory=False)\n",
    "patient_cohort.columns = map(str.lower, patient_cohort.columns)\n",
    "inpatient_claims_joined = pd.merge(inpatient_claims, patient_cohort, on=\"enrolid\", how=\"left\")\n"
   ]
  },
  {
   "cell_type": "code",
   "execution_count": 14,
   "metadata": {},
   "outputs": [],
   "source": [
    "subset=inpatient_claims_joined[inpatient_claims_joined['proctyp']=='1']\n",
    "subset=subset[np.logical_not(subset['proc1'].isna())]\n",
    "subset_cat1=subset[np.logical_not(subset.proc1.str.contains('F|T'))]\n",
    "subset_cat2=subset[subset.proc1.str.contains('F')]\n",
    "subset_cat1.proc1=subset_cat1.proc1.astype(int)"
   ]
  },
  {
   "cell_type": "code",
   "execution_count": 15,
   "metadata": {},
   "outputs": [],
   "source": [
    "subset_cat1['Proc1_decodes']=''\n",
    "subset_cat1.loc[((subset_cat1['proc1'] >= 0) & (subset_cat1['proc1'] <= 9999)),'Proc1_decodes']='Anesthesia Services'\n",
    "subset_cat1.loc[((subset_cat1['proc1'] >= 10000) & (subset_cat1['proc1'] <= 19999)),'Proc1_decodes']='Integumentary System'\n",
    "subset_cat1.loc[((subset_cat1['proc1'] >= 20000) & (subset_cat1['proc1'] <= 29999)),'Proc1_decodes']='Musculoskeletal System'\n",
    "subset_cat1.loc[((subset_cat1['proc1'] >= 30000) & (subset_cat1['proc1'] <= 39999)),'Proc1_decodes']='Respiratory, Cardiovascular, Hemic, and Lymphatic System'\n",
    "subset_cat1.loc[((subset_cat1['proc1'] >= 40000) & (subset_cat1['proc1'] <= 49999)),'Proc1_decodes']='Digestive System'\n",
    "subset_cat1.loc[((subset_cat1['proc1'] >= 50000) & (subset_cat1['proc1'] <= 59999)),'Proc1_decodes']='Urinary, Male Genital, Female Genital, Maternity Care, and Delivery System'\n",
    "subset_cat1.loc[((subset_cat1['proc1'] >= 60000) & (subset_cat1['proc1'] <= 69999)),'Proc1_decodes']='Endocrine, Nervous, Eye and Ocular Adnexa, Auditory System'\n",
    "subset_cat1.loc[((subset_cat1['proc1'] >= 70000) & (subset_cat1['proc1'] <= 79999)),'Proc1_decodes']='Radiology Services'\n",
    "subset_cat1.loc[((subset_cat1['proc1'] >= 80000) & (subset_cat1['proc1'] <= 89999)),'Proc1_decodes']='Pathology and Laboratory Services'\n",
    "subset_cat1.loc[((subset_cat1['proc1'] >= 90000) & (subset_cat1['proc1'] <= 99999)),'Proc1_decodes']='Evaluation & Management Services'"
   ]
  },
  {
   "cell_type": "code",
   "execution_count": 16,
   "metadata": {},
   "outputs": [],
   "source": [
    "def truncate_code(dx_code):\n",
    "    new_code = str(dx_code)[0:4]\n",
    "    \n",
    "    return new_code\n",
    "\n",
    "subset_cat2['proc1_int_part'] = subset_cat2[\"proc1\"].apply(lambda x: truncate_code(x))\n",
    "subset_cat2.proc1_int_part=subset_cat2.proc1_int_part.astype(int)"
   ]
  },
  {
   "cell_type": "code",
   "execution_count": 17,
   "metadata": {},
   "outputs": [],
   "source": [
    "subset_cat2['Proc1_decodes']=''\n",
    "subset_cat2.loc[((subset_cat2['proc1_int_part'] >= 1) & (subset_cat2['proc1_int_part'] <= 15)),'Proc1_decodes']='Composite measures'\n",
    "subset_cat2.loc[((subset_cat2['proc1_int_part'] >= 500) & (subset_cat2['proc1_int_part'] <= 575)),'Proc1_decodes']='Patient management'\n",
    "subset_cat2.loc[((subset_cat2['proc1_int_part'] >= 1000) & (subset_cat2['proc1_int_part'] <= 1220)),'Proc1_decodes']='Patient history'\n",
    "subset_cat2.loc[((subset_cat2['proc1_int_part'] >= 2000) & (subset_cat2['proc1_int_part'] <= 2050)),'Proc1_decodes']='Physical examination'\n",
    "subset_cat2.loc[((subset_cat2['proc1_int_part'] >= 3006) & (subset_cat2['proc1_int_part'] <= 3573)),'Proc1_decodes']='Diagnostic/screening processes or results'\n",
    "subset_cat2.loc[((subset_cat2['proc1_int_part'] >= 4000) & (subset_cat2['proc1_int_part'] <= 4306)),'Proc1_decodes']='Therapeutic, preventive or other interventions'\n",
    "subset_cat2.loc[((subset_cat2['proc1_int_part'] >= 5005) & (subset_cat2['proc1_int_part'] <= 5100)),'Proc1_decodes']='Follow-up or other outcomes'\n",
    "subset_cat2.loc[((subset_cat2['proc1_int_part'] >= 6005) & (subset_cat2['proc1_int_part'] <= 6045)),'Proc1_decodes']='Patient safety'\n",
    "subset_cat2.loc[((subset_cat2['proc1_int_part'] >= 7010) & (subset_cat2['proc1_int_part'] <= 7025)),'Proc1_decodes']='Structural Measures'"
   ]
  },
  {
   "cell_type": "code",
   "execution_count": 18,
   "metadata": {},
   "outputs": [],
   "source": [
    "subset_hcpc=inpatient_claims_joined[inpatient_claims_joined['proctyp']=='7']\n",
    "subset_hcpc=subset_hcpc[np.logical_not(subset_hcpc['proc1'].isna())]"
   ]
  },
  {
   "cell_type": "code",
   "execution_count": 19,
   "metadata": {},
   "outputs": [],
   "source": [
    "subset_hcpc['Proc1_decodes']=''\n",
    "subset_hcpc.loc[(subset_hcpc['proc1'].str.startswith('A')),'Proc1_decodes']='Transportation Services Including Ambulance, Medical & Surgical Supplies'\n",
    "subset_hcpc.loc[(subset_hcpc['proc1'].str.startswith('B')),'Proc1_decodes']='Enteral and Parenteral Therapy'\n",
    "subset_hcpc.loc[(subset_hcpc['proc1'].str.startswith('C')),'Proc1_decodes']='Temporary Codes for Use with Outpatient Prospective Payment System'\n",
    "subset_hcpc.loc[(subset_hcpc['proc1'].str.startswith('E')),'Proc1_decodes']='Durable Medical Equipment (DME)'\n",
    "subset_hcpc.loc[(subset_hcpc['proc1'].str.startswith('G')),'Proc1_decodes']='Procedures/Professional Services (Temporary Codes)'\n",
    "subset_hcpc.loc[(subset_hcpc['proc1'].str.startswith('H')),'Proc1_decodes']='Alcohol and Drug Abuse Treatment Services / Rehabilitative Services'\n",
    "subset_hcpc.loc[(subset_hcpc['proc1'].str.startswith('J')),'Proc1_decodes']='Drugs administered other than oral method, chemotherapy drugs'\n",
    "subset_hcpc.loc[(subset_hcpc['proc1'].str.startswith('K')),'Proc1_decodes']=\"Durable Medical Equipment for Medicare Administrative Contractors (DME MACs)\"\n",
    "subset_hcpc.loc[(subset_hcpc['proc1'].str.startswith('L')),'Proc1_decodes']='Orthotic and Prosthetic Procedures, Devices'\n",
    "subset_hcpc.loc[(subset_hcpc['proc1'].str.startswith('M')),'Proc1_decodes']='Medical services'\n",
    "subset_hcpc.loc[(subset_hcpc['proc1'].str.startswith('P')),'Proc1_decodes']='Pathology and Laboratory Services'\n",
    "subset_hcpc.loc[(subset_hcpc['proc1'].str.startswith('Q')),'Proc1_decodes']='Miscellaneous Services (Temporary Codes)'\n",
    "subset_hcpc.loc[(subset_hcpc['proc1'].str.startswith('R')),'Proc1_decodes']='Diagnostic Radiology Services'\n",
    "subset_hcpc.loc[(subset_hcpc['proc1'].str.startswith('S')),'Proc1_decodes']='Commercial Payers (Temporary Codes)'\n",
    "subset_hcpc.loc[(subset_hcpc['proc1'].str.startswith('T')),'Proc1_decodes']='Established for State Medical Agencies'\n",
    "subset_hcpc.loc[(subset_hcpc['proc1'].str.startswith('V')),'Proc1_decodes']='Vision, Hearing and Speech-Language Pathology Services'"
   ]
  },
  {
   "cell_type": "code",
   "execution_count": 20,
   "metadata": {},
   "outputs": [],
   "source": [
    "final_subset=pd.concat([subset_cat1,subset_cat2,subset_hcpc])\n",
    "final_df = final_subset[final_subset['Proc1_decodes']!='']\n",
    "inpatient_clustered_procs = final_df[['enrolid', 'Proc1_decodes']]\n",
    "inpatient_clustered_procs = inpatient_clustered_procs.groupby(['Proc1_decodes']).count().reset_index()\n",
    "inpatient_clustered_procs = inpatient_clustered_procs.sort_values(by='enrolid', ascending=False)\n",
    "inpatient_clustered_procs = inpatient_clustered_procs.rename(columns={\"enrolid\": \"enrolid_count\"})"
   ]
  },
  {
   "cell_type": "code",
   "execution_count": 21,
   "metadata": {},
   "outputs": [
    {
     "name": "stdout",
     "output_type": "stream",
     "text": [
      "Total: No of Concepts  31\n",
      "Total: code occurences: 3916781\n",
      "                                        Proc1_decodes  enrolid_count  \\\n",
      "12                   Evaluation & Management Services        2634870   \n",
      "24                                 Radiology Services         537761   \n",
      "18                  Pathology and Laboratory Services         387555   \n",
      "25  Respiratory, Cardiovascular, Hemic, and Lympha...         106875   \n",
      "1                                 Anesthesia Services          68633   \n",
      "\n",
      "    occur_rate  \n",
      "12    0.672713  \n",
      "24    0.137297  \n",
      "18    0.098947  \n",
      "25    0.027286  \n",
      "1     0.017523  \n",
      "                                        Proc1_decodes  enrolid_count  \\\n",
      "12                   Evaluation & Management Services        2634870   \n",
      "24                                 Radiology Services         537761   \n",
      "18                  Pathology and Laboratory Services         387555   \n",
      "25  Respiratory, Cardiovascular, Hemic, and Lympha...         106875   \n",
      "1                                 Anesthesia Services          68633   \n",
      "\n",
      "    occur_rate  \n",
      "12    0.672713  \n",
      "24    0.137297  \n",
      "18    0.098947  \n",
      "25    0.027286  \n",
      "1     0.017523  \n",
      "Final total codes:  (21, 3)\n",
      "                       Proc1_decodes  age  coins  copay  datatyp  deduct  \\\n",
      "4                 Radiology Services   59    0.0    0.0        1     0.0   \n",
      "5   Evaluation & Management Services   88    0.0    0.0        3     0.0   \n",
      "9                 Radiology Services   62    0.0    0.0        1     0.0   \n",
      "10  Evaluation & Management Services   63    0.0    0.0        1     0.0   \n",
      "11  Evaluation & Management Services   58    0.0    0.0        1     0.0   \n",
      "\n",
      "      dx1   dx2    dx3   dx4  ...  proc1 proc1_int_part  proctyp region  rx  \\\n",
      "4   78650   NaN    NaN   NaN  ...  71010            NaN        1      3   1   \n",
      "5    4280   NaN    NaN   NaN  ...  99285            NaN        1      1   1   \n",
      "9   Z4682   NaN    NaN   NaN  ...  71010            NaN        1      3   1   \n",
      "10   N186  D649   Z992   NaN  ...  99233            NaN        1      3   1   \n",
      "11  Z9889  D689  I2510  I519  ...  99292            NaN        1      2   1   \n",
      "\n",
      "   sex stdplac     svcdate worsen  worsening_dt  \n",
      "4    1    23.0  2015-06-29      0        1/1/60  \n",
      "5    1    23.0  2012-05-20      0        1/1/60  \n",
      "9    1    21.0  2016-02-16      1       2/16/16  \n",
      "10   1    21.0  2015-12-09      1       4/11/16  \n",
      "11   1    21.0  2016-12-21      1      12/19/16  \n",
      "\n",
      "[5 rows x 26 columns]\n"
     ]
    }
   ],
   "source": [
    "total_occur = sum(inpatient_clustered_procs['enrolid_count'])\n",
    "print (\"Total: No of Concepts \", inpatient_clustered_procs.shape[0])\n",
    "print (\"Total: code occurences:\", total_occur)\n",
    "inpatient_clustered_procs['occur_rate'] = inpatient_clustered_procs['enrolid_count'].apply(lambda x: float(x/total_occur))\n",
    "print (inpatient_clustered_procs.head())\n",
    "inpatient_clustered_final_procs=inpatient_clustered_procs[inpatient_clustered_procs.enrolid_count > inpatient_clustered_procs.enrolid_count.quantile(.30)]\n",
    "print (inpatient_clustered_final_procs.head())\n",
    "print (\"Final total codes: \", inpatient_clustered_final_procs.shape)\n",
    "inpatient_clustered_final_procs = final_df[final_df['Proc1_decodes'].isin(inpatient_clustered_final_procs['Proc1_decodes'])]\n",
    "print(inpatient_clustered_final_procs.head())\n",
    "    "
   ]
  },
  {
   "cell_type": "code",
   "execution_count": 22,
   "metadata": {},
   "outputs": [
    {
     "name": "stdout",
     "output_type": "stream",
     "text": [
      "Before removing: No of Concepts  21\n",
      "After removing: No of Concepts  5\n"
     ]
    }
   ],
   "source": [
    "inpatient_clustered_final_procs['count'] = inpatient_clustered_final_procs.groupby(['enrolid','svcdate','Proc1_decodes'])['age'].transform('count')\n",
    "print('Before removing: No of Concepts ',inpatient_clustered_final_procs['Proc1_decodes'].nunique())\n",
    "threshold = 0.5\n",
    "inpatient_pivot_procs = inpatient_clustered_final_procs.pivot_table(index=['enrolid', 'svcdate'], columns='Proc1_decodes', values='count').fillna(0)\n",
    "inpatient_pivot_procs.drop(inpatient_pivot_procs.std()[inpatient_pivot_procs.std() < threshold].index.values, axis = 1, inplace = True)\n",
    "concepts_final_procs=inpatient_pivot_procs.columns.to_frame()    \n",
    "inpatient_clustered_final_procs_2 = inpatient_clustered_final_procs[inpatient_clustered_final_procs['Proc1_decodes'].isin(concepts_final_procs['Proc1_decodes'])]\n",
    "inpatient_clustered_final_procs_2.sort_values('enrolid',inplace=True)\n",
    "inpatient_clustered_final_procs_2.Proc1_decodes.nunique()\n",
    "print('After removing: No of Concepts ',inpatient_clustered_final_procs_2['Proc1_decodes'].nunique())\n",
    "    "
   ]
  },
  {
   "cell_type": "code",
   "execution_count": 23,
   "metadata": {},
   "outputs": [],
   "source": [
    "inpatient_clustered_final_procs_2['StaticVar'] = inpatient_clustered_final_procs_2['sex'].astype(str) + ', ' + \\\n",
    "inpatient_clustered_final_procs_2['age'].astype(str) + ', ' +inpatient_clustered_final_procs_2['region'].astype(str) + ', '+ \\\n",
    "inpatient_clustered_final_procs_2['plantyp'].astype(str) + ', ' +inpatient_clustered_final_procs_2['datatyp'].astype(str)+ \\\n",
    "                                                           ', '+ inpatient_clustered_final_procs_2['rx'].astype(str)\n"
   ]
  },
  {
   "cell_type": "code",
   "execution_count": 24,
   "metadata": {},
   "outputs": [],
   "source": [
    "#inpatient_clustered_final_procs_2.drop(['coins','copay','deduct','dx1','dx2','dx3','dx4','pdx','pay','proc1','proc1_int_part','indexdate','sex' , 'age',  'region' ,'proctyp' ,'plantyp','datatyp',  'rx', 'pproc', 'count','worsen','worsening_dt','stdplac'],axis=1,inplace=True)"
   ]
  },
  {
   "cell_type": "code",
   "execution_count": null,
   "metadata": {},
   "outputs": [],
   "source": [
    "inpatient_clustered_final_procs_2=inpatient_clustered_final_procs_2[['enrolid','svcdate','Proc1_decodes','StaticVar']]\n",
    "\n"
   ]
  },
  {
   "cell_type": "code",
   "execution_count": 25,
   "metadata": {},
   "outputs": [],
   "source": [
    "inpatient_clustered_final_procs_2.to_csv('inpatient_proc_codes_final.csv')"
   ]
  },
  {
   "cell_type": "code",
   "execution_count": null,
   "metadata": {},
   "outputs": [],
   "source": [
    "inpatient_clustered_final_procs_2.Proc1_decodes.value_counts()\n"
   ]
  }
 ],
 "metadata": {
  "kernelspec": {
   "display_name": "Python 3",
   "language": "python",
   "name": "python3"
  },
  "language_info": {
   "codemirror_mode": {
    "name": "ipython",
    "version": 3
   },
   "file_extension": ".py",
   "mimetype": "text/x-python",
   "name": "python",
   "nbconvert_exporter": "python",
   "pygments_lexer": "ipython3",
   "version": "3.7.3"
  }
 },
 "nbformat": 4,
 "nbformat_minor": 2
}
